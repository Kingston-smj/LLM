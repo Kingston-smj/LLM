{
 "cells": [
  {
   "cell_type": "markdown",
   "metadata": {},
   "source": [
    "# Instant Gratification - Hugging Face Version\n",
    "\n",
    "## Your first LLM Project using Hugging Face!\n",
    "\n",
    "This notebook has been modified to use Hugging Face's API instead of OpenAI."
   ]
  },
  {
   "cell_type": "code",
   "execution_count": null,
   "metadata": {},
   "outputs": [],
   "source": [
    "# imports\n",
    "\n",
    "import os\n",
    "import requests\n",
    "from dotenv import load_dotenv\n",
    "from bs4 import BeautifulSoup\n",
    "from IPython.display import Markdown, display\n",
    "from transformers import pipeline\n",
    "from huggingface_hub import InferenceClient"
   ]
  },
  {
   "cell_type": "markdown",
   "metadata": {},
   "source": [
    "# Connecting to Hugging Face\n",
    "\n",
    "You'll need to set up your Hugging Face API key in your .env file:\n",
    "HUGGINGFACE_API_KEY=your_api_key_here"
   ]
  },
  {
   "cell_type": "code",
   "execution_count": null,
   "metadata": {},
   "outputs": [],
   "source": [
    "# Load environment variables\n",
    "\n",
    "load_dotenv(override=True)\n",
    "api_key = os.getenv('HUGGINGFACE_API_KEY')\n",
    "\n",
    "# Check the key\n",
    "if not api_key:\n",
    "    print(\"No Hugging Face API key found - please add it to your .env file\")\n",
    "else:\n",
    "    print(\"API key found!\")\n",
    "\n",
    "# Initialize Hugging Face client\n",
    "client = InferenceClient(token=api_key)"
   ]
  },
  {
   "cell_type": "code",
   "execution_count": null,
   "metadata": {},
   "outputs": [],
   "source": [
    "# Quick test of Hugging Face API\n",
    "message = \"Hello, this is my first message to you! Hi!\"\n",
    "\n",
    "# Using Mistral model as an example - you can change this to any other model you prefer\n",
    "response = client.text_generation(\n",
    "    prompt=message,\n",
    "    model=\"mistralai/Mistral-7B-Instruct-v0.1\",\n",
    "    max_new_tokens=100\n",
    ")\n",
    "\n",
    "print(response)"
   ]
  },
  {
   "cell_type": "code",
   "execution_count": null,
   "metadata": {},
   "outputs": [],
   "source": [
    "# A class to represent a Webpage\n",
    "headers = {\n",
    "    \"User-Agent\": \"Mozilla/5.0 (Windows NT 10.0; Win64; x64) AppleWebKit/537.36 (KHTML, like Gecko) Chrome/117.0.0.0 Safari/537.36\"\n",
    "}\n",
    "\n",
    "class Website:\n",
    "    def __init__(self, url):\n",
    "        self.url = url\n",
    "        response = requests.get(url, headers=headers)\n",
    "        soup = BeautifulSoup(response.content, 'html.parser')\n",
    "        self.title = soup.title.string if soup.title else \"No title found\"\n",
    "        for irrelevant in soup.body([\"script\", \"style\", \"img\", \"input\"]):\n",
    "            irrelevant.decompose()\n",
    "        self.text = soup.body.get_text(separator=\"\\n\", strip=True)"
   ]
  },
  {
   "cell_type": "code",
   "execution_count": null,
   "metadata": {},
   "outputs": [],
   "source": [
    "def create_prompt(website):\n",
    "    \"\"\"Create a prompt for the model that includes instructions and website content\"\"\"\n",
    "    return f\"\"\"Below is the content of a website titled '{website.title}'. \n",
    "    Please provide a short, clear summary of the main content. \n",
    "    If there are any news or announcements, include those too.\n",
    "    \n",
    "    Content:\n",
    "    {website.text}\n",
    "    \n",
    "    Summary:\"\"\""
   ]
  },
  {
   "cell_type": "code",
   "execution_count": null,
   "metadata": {},
   "outputs": [],
   "source": [
    "def summarize(url):\n",
    "    \"\"\"Summarize a website using Hugging Face's API\"\"\"\n",
    "    website = Website(url)\n",
    "    prompt = create_prompt(website)\n",
    "    \n",
    "    # Using Mistral model - you can change this to other models\n",
    "    response = client.text_generation(\n",
    "        prompt=prompt,\n",
    "        model=\"mistralai/Mistral-7B-Instruct-v0.1\",\n",
    "        max_new_tokens=200,\n",
    "        temperature=0.7\n",
    "    )\n",
    "    \n",
    "    return response"
   ]
  },
  {
   "cell_type": "code",
   "execution_count": null,
   "metadata": {},
   "outputs": [],
   "source": [
    "def display_summary(url):\n",
    "    \"\"\"Display the summary in markdown format\"\"\"\n",
    "    summary = summarize(url)\n",
    "    display(Markdown(summary))"
   ]
  },
  {
   "cell_type": "code",
   "execution_count": null,
   "metadata": {},
   "outputs": [],
   "source": [
    "# Try it out!\n",
    "display_summary(\"https://edwarddonner.com\")"
   ]
  }
 ],
 "metadata": {
  "kernelspec": {
   "display_name": "Python 3",
   "language": "python",
   "name": "python3"
  }
 }
}
